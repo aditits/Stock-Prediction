{
  "nbformat": 4,
  "nbformat_minor": 0,
  "metadata": {
    "colab": {
      "name": "Stock Prediction.ipynb",
      "provenance": [],
      "collapsed_sections": []
    },
    "kernelspec": {
      "name": "python3",
      "display_name": "Python 3"
    },
    "language_info": {
      "name": "python"
    }
  },
  "cells": [
    {
      "cell_type": "code",
      "execution_count": null,
      "metadata": {
        "id": "IFCUv_GTote5"
      },
      "outputs": [],
      "source": [
        "import pandas as pd\n",
        "\n",
        "df = pd.read_csv('analytics_gc.csv')"
      ]
    },
    {
      "cell_type": "code",
      "source": [
        "df = df.rename(columns={'x1': 'Open', 'x2': 'High', 'x3':'Low', 'x4':'Close'})\n",
        "df.head()"
      ],
      "metadata": {
        "colab": {
          "base_uri": "https://localhost:8080/",
          "height": 206
        },
        "id": "gMS6WjZmpjuA",
        "outputId": "3fbd8317-ce65-4875-eee5-387c0ba959b5"
      },
      "execution_count": null,
      "outputs": [
        {
          "output_type": "execute_result",
          "data": {
            "text/html": [
              "\n",
              "  <div id=\"df-bce56c42-ed3e-465f-b276-4ea45feb5793\">\n",
              "    <div class=\"colab-df-container\">\n",
              "      <div>\n",
              "<style scoped>\n",
              "    .dataframe tbody tr th:only-of-type {\n",
              "        vertical-align: middle;\n",
              "    }\n",
              "\n",
              "    .dataframe tbody tr th {\n",
              "        vertical-align: top;\n",
              "    }\n",
              "\n",
              "    .dataframe thead th {\n",
              "        text-align: right;\n",
              "    }\n",
              "</style>\n",
              "<table border=\"1\" class=\"dataframe\">\n",
              "  <thead>\n",
              "    <tr style=\"text-align: right;\">\n",
              "      <th></th>\n",
              "      <th>y</th>\n",
              "      <th>Open</th>\n",
              "      <th>High</th>\n",
              "      <th>Low</th>\n",
              "      <th>Close</th>\n",
              "    </tr>\n",
              "  </thead>\n",
              "  <tbody>\n",
              "    <tr>\n",
              "      <th>0</th>\n",
              "      <td>0</td>\n",
              "      <td>3861.22</td>\n",
              "      <td>3861.66</td>\n",
              "      <td>3860.75</td>\n",
              "      <td>3861.38</td>\n",
              "    </tr>\n",
              "    <tr>\n",
              "      <th>1</th>\n",
              "      <td>0</td>\n",
              "      <td>3861.19</td>\n",
              "      <td>3861.38</td>\n",
              "      <td>3860.16</td>\n",
              "      <td>3861.25</td>\n",
              "    </tr>\n",
              "    <tr>\n",
              "      <th>2</th>\n",
              "      <td>0</td>\n",
              "      <td>3861.38</td>\n",
              "      <td>3861.38</td>\n",
              "      <td>3858.47</td>\n",
              "      <td>3858.53</td>\n",
              "    </tr>\n",
              "    <tr>\n",
              "      <th>3</th>\n",
              "      <td>1</td>\n",
              "      <td>3858.72</td>\n",
              "      <td>3858.72</td>\n",
              "      <td>3857.03</td>\n",
              "      <td>3858.19</td>\n",
              "    </tr>\n",
              "    <tr>\n",
              "      <th>4</th>\n",
              "      <td>1</td>\n",
              "      <td>3858.09</td>\n",
              "      <td>3859.16</td>\n",
              "      <td>3858.03</td>\n",
              "      <td>3858.81</td>\n",
              "    </tr>\n",
              "  </tbody>\n",
              "</table>\n",
              "</div>\n",
              "      <button class=\"colab-df-convert\" onclick=\"convertToInteractive('df-bce56c42-ed3e-465f-b276-4ea45feb5793')\"\n",
              "              title=\"Convert this dataframe to an interactive table.\"\n",
              "              style=\"display:none;\">\n",
              "        \n",
              "  <svg xmlns=\"http://www.w3.org/2000/svg\" height=\"24px\"viewBox=\"0 0 24 24\"\n",
              "       width=\"24px\">\n",
              "    <path d=\"M0 0h24v24H0V0z\" fill=\"none\"/>\n",
              "    <path d=\"M18.56 5.44l.94 2.06.94-2.06 2.06-.94-2.06-.94-.94-2.06-.94 2.06-2.06.94zm-11 1L8.5 8.5l.94-2.06 2.06-.94-2.06-.94L8.5 2.5l-.94 2.06-2.06.94zm10 10l.94 2.06.94-2.06 2.06-.94-2.06-.94-.94-2.06-.94 2.06-2.06.94z\"/><path d=\"M17.41 7.96l-1.37-1.37c-.4-.4-.92-.59-1.43-.59-.52 0-1.04.2-1.43.59L10.3 9.45l-7.72 7.72c-.78.78-.78 2.05 0 2.83L4 21.41c.39.39.9.59 1.41.59.51 0 1.02-.2 1.41-.59l7.78-7.78 2.81-2.81c.8-.78.8-2.07 0-2.86zM5.41 20L4 18.59l7.72-7.72 1.47 1.35L5.41 20z\"/>\n",
              "  </svg>\n",
              "      </button>\n",
              "      \n",
              "  <style>\n",
              "    .colab-df-container {\n",
              "      display:flex;\n",
              "      flex-wrap:wrap;\n",
              "      gap: 12px;\n",
              "    }\n",
              "\n",
              "    .colab-df-convert {\n",
              "      background-color: #E8F0FE;\n",
              "      border: none;\n",
              "      border-radius: 50%;\n",
              "      cursor: pointer;\n",
              "      display: none;\n",
              "      fill: #1967D2;\n",
              "      height: 32px;\n",
              "      padding: 0 0 0 0;\n",
              "      width: 32px;\n",
              "    }\n",
              "\n",
              "    .colab-df-convert:hover {\n",
              "      background-color: #E2EBFA;\n",
              "      box-shadow: 0px 1px 2px rgba(60, 64, 67, 0.3), 0px 1px 3px 1px rgba(60, 64, 67, 0.15);\n",
              "      fill: #174EA6;\n",
              "    }\n",
              "\n",
              "    [theme=dark] .colab-df-convert {\n",
              "      background-color: #3B4455;\n",
              "      fill: #D2E3FC;\n",
              "    }\n",
              "\n",
              "    [theme=dark] .colab-df-convert:hover {\n",
              "      background-color: #434B5C;\n",
              "      box-shadow: 0px 1px 3px 1px rgba(0, 0, 0, 0.15);\n",
              "      filter: drop-shadow(0px 1px 2px rgba(0, 0, 0, 0.3));\n",
              "      fill: #FFFFFF;\n",
              "    }\n",
              "  </style>\n",
              "\n",
              "      <script>\n",
              "        const buttonEl =\n",
              "          document.querySelector('#df-bce56c42-ed3e-465f-b276-4ea45feb5793 button.colab-df-convert');\n",
              "        buttonEl.style.display =\n",
              "          google.colab.kernel.accessAllowed ? 'block' : 'none';\n",
              "\n",
              "        async function convertToInteractive(key) {\n",
              "          const element = document.querySelector('#df-bce56c42-ed3e-465f-b276-4ea45feb5793');\n",
              "          const dataTable =\n",
              "            await google.colab.kernel.invokeFunction('convertToInteractive',\n",
              "                                                     [key], {});\n",
              "          if (!dataTable) return;\n",
              "\n",
              "          const docLinkHtml = 'Like what you see? Visit the ' +\n",
              "            '<a target=\"_blank\" href=https://colab.research.google.com/notebooks/data_table.ipynb>data table notebook</a>'\n",
              "            + ' to learn more about interactive tables.';\n",
              "          element.innerHTML = '';\n",
              "          dataTable['output_type'] = 'display_data';\n",
              "          await google.colab.output.renderOutput(dataTable, element);\n",
              "          const docLink = document.createElement('div');\n",
              "          docLink.innerHTML = docLinkHtml;\n",
              "          element.appendChild(docLink);\n",
              "        }\n",
              "      </script>\n",
              "    </div>\n",
              "  </div>\n",
              "  "
            ],
            "text/plain": [
              "   y     Open     High      Low    Close\n",
              "0  0  3861.22  3861.66  3860.75  3861.38\n",
              "1  0  3861.19  3861.38  3860.16  3861.25\n",
              "2  0  3861.38  3861.38  3858.47  3858.53\n",
              "3  1  3858.72  3858.72  3857.03  3858.19\n",
              "4  1  3858.09  3859.16  3858.03  3858.81"
            ]
          },
          "metadata": {},
          "execution_count": 10
        }
      ]
    },
    {
      "cell_type": "code",
      "source": [
        "import matplotlib.pyplot as plt\n",
        "import numpy as np\n",
        "\n",
        "mid1 = (df['Close']+df['Open'])/2\n",
        "mid2 = (df['High']+df['Low'])/2\n",
        "\n",
        "print(\"Variance in OHLC = \"+', '.join([str(np.var(df[x])) for x in ['Open', 'High', 'Low', 'Close']]))\n",
        "print(\"Variance in Mid-Ranges = \" + ', '.join([str(np.var(x)) for x in [mid1, mid2] ]))\n",
        "plt.plot(np.arange(0,10**4,1),mid1)\n",
        "plt.plot(np.arange(0,10**4,1),mid2)\n",
        "plt.show()"
      ],
      "metadata": {
        "colab": {
          "base_uri": "https://localhost:8080/",
          "height": 300
        },
        "id": "Li_9uz12re1C",
        "outputId": "516819b7-980a-4d14-bd58-c97002491d31"
      },
      "execution_count": null,
      "outputs": [
        {
          "output_type": "stream",
          "name": "stdout",
          "text": [
            "Variance in OHLC = 4884.250276248795, 4881.383565695101, 4889.157196020895, 4884.168947643688\n",
            "Variance in Mid-Ranges = 4883.781702275199, 4884.990029372724\n"
          ]
        },
        {
          "output_type": "display_data",
          "data": {
            "image/png": "[encoded data removed]",
            "text/plain": [
              "<Figure size 432x288 with 1 Axes>"
            ]
          },
          "metadata": {
            "needs_background": "light"
          }
        }
      ]
    },
    {
      "cell_type": "code",
      "source": [
        "#See if opening of new datapoint is after closing of prev data point\n",
        "op_cl = [0]\n",
        "\n",
        "#Close below or above 50% of previous candlestick\n",
        "cl50 = [1] #First data point close > half of current.\n",
        "\n",
        "#Bull Harami, 0.25(O-C) > O-C new \n",
        "bull_h = [0]\n",
        "\n",
        "\n",
        "#Implement more mined parameters from https://discovery.ucl.ac.uk/id/eprint/10062933/1/ICONIP_Deep_Candlestick_Mining_update_final.pdf\n",
        "#Pattern 02\n",
        "p02 = [0]\n",
        "\n",
        "#1 degree patterns\n",
        "for i in range(1, len(df['Open'])):\n",
        "    if df['Open'][i] > df['Close'][i-1]:\n",
        "        op_cl.append(1)\n",
        "    else:\n",
        "        op_cl.append(0)\n",
        "    \n",
        "    if df['Close'][i] > mid2[i-1]:\n",
        "        cl50.append(1)\n",
        "    else:\n",
        "        cl50.append(0)\n",
        "    \n",
        "    if 0.25*(df['Open'][i-1]-df['Close'][i-1]) > (df['Open'][i]-df['Close'][i]):\n",
        "        bull_h.append(1)\n",
        "    else:\n",
        "        bull_h.append(0)\n",
        "\n",
        "    if df['Open'][i-1]>df['Open'][i] and df['High'][i-1]>df['High'][i] and df['Close'][i-1]<df['Close'][i] and df['Low'][i-1]<df['Low'][i]:\n",
        "        p02.append(1)\n",
        "    else:\n",
        "        p02.append(0)\n",
        "\n",
        "#2 degree patterns\n",
        "for i in range(2, len(df['Open'])):\n",
        "    pass\n",
        "\n",
        "df['op_cl'] = op_cl\n",
        "df['cl50'] = cl50\n",
        "df['bull_h'] = bull_h\n",
        "df['p02'] = p02\n",
        "\n",
        "df['midOC'] = mid1\n",
        "df['midHL'] = mid2\n",
        "\n",
        "df['momentum'] = momentum\n",
        "#df['midCompare'] = mid1>mid2, Doesn't do very well though. Check it later.\n",
        "\n",
        "plt.matshow(df.corr())\n",
        "cb = plt.colorbar()\n",
        "cb.ax.tick_params(labelsize=14)\n",
        "plt.show()\n",
        "\n",
        "print(df.columns)"
      ],
      "metadata": {
        "id": "iXXp24BCjsvr",
        "colab": {
          "base_uri": "https://localhost:8080/",
          "height": 312
        },
        "outputId": "9f460ec0-f3d7-495b-9563-87ffe6bf3164"
      },
      "execution_count": null,
      "outputs": [
        {
          "output_type": "display_data",
          "data": {
            "image/png": "[encoded data removed]",
            "text/plain": [
              "<Figure size 288x288 with 2 Axes>"
            ]
          },
          "metadata": {
            "needs_background": "light"
          }
        },
        {
          "output_type": "stream",
          "name": "stdout",
          "text": [
            "Index(['y', 'Open', 'High', 'Low', 'Close', 'op_cl', 'cl50', 'bull_h', 'p02',\n",
            "       'midOC', 'midHL', 'momentum'],\n",
            "      dtype='object')\n"
          ]
        }
      ]
    },
    {
      "cell_type": "code",
      "source": [
        "from sklearn.model_selection import train_test_split\n",
        "from sklearn.preprocessing import MinMaxScaler\n",
        "x = np.array([p02, cl50, bull_h, momentum]).T\n",
        "#x=np.array([df[\"Open\"],df[\"High\"],df[\"Low\"],df[\"Close\"]]).T\n",
        "#scaler = MinMaxScaler(feature_range=(0, 1))\n",
        "#x = scaler.fit_transform(x)\n",
        "x = x.astype('float32')\n",
        "#x = np.array([mid1, mid2]).T\n",
        "y = np.array(df['y'])\n",
        "x_train, x_test, y_train, y_test = x[:int(0.8*x.shape[0])],x[int(0.8*x.shape[0]):], y[:int(0.8*x.shape[0])], y[int(0.8*x.shape[0]):]"
      ],
      "metadata": {
        "id": "C_IWc_xLUSoS"
      },
      "execution_count": null,
      "outputs": []
    },
    {
      "cell_type": "code",
      "source": [
        "print(x)"
      ],
      "metadata": {
        "colab": {
          "base_uri": "https://localhost:8080/"
        },
        "id": "Cxy-RsfQfTru",
        "outputId": "4d86e11c-e5de-4e95-f8b9-2e81491c1255"
      },
      "execution_count": null,
      "outputs": [
        {
          "output_type": "stream",
          "name": "stdout",
          "text": [
            "[[0. 1. 0. 0.]\n",
            " [0. 1. 1. 0.]\n",
            " [0. 0. 0. 0.]\n",
            " ...\n",
            " [0. 1. 1. 0.]\n",
            " [0. 0. 0. 1.]\n",
            " [1. 1. 1. 0.]]\n"
          ]
        }
      ]
    },
    {
      "cell_type": "code",
      "source": [
        "from sklearn.ensemble import RandomForestClassifier\n",
        "from sklearn.linear_model import LogisticRegression\n",
        "from sklearn.metrics import accuracy_score,f1_score,roc_auc_score,confusion_matrix,roc_curve\n",
        "from sklearn.metrics import ConfusionMatrixDisplay\n",
        "\n",
        "#For SVC Hyperplane\n",
        "from sklearn.pipeline import make_pipeline\n",
        "from sklearn.preprocessing import StandardScaler\n",
        "from sklearn.svm import SVC\n",
        "\n",
        "import matplotlib.pyplot as plt\n",
        "\n",
        "#model_test = RandomForestClassifier(max_depth=50, n_estimators=50)\n",
        "#model_test = LogisticRegression(penalty='l2', max_iter=100, dual=False)\n",
        "model_test = make_pipeline(StandardScaler(), SVC(gamma='auto', C=0.5))\n",
        "\n",
        "\n",
        "model_test.fit(x_train, y_train)\n",
        "preds = model_test.predict(x_test)\n",
        "#print(model_test.feature_importances_)\n",
        "\n",
        "c = sum([1 if preds[i]==y_test[i] else 0 for i in range(len(preds))])\n",
        "print(c/len(preds))\n",
        "\n",
        "cm nfusionMatrixDisplay(confusion_matrix=cm)\n",
        "disp.plot()\n",
        "plt.show()= confusion_matrix(y_test, preds)\n",
        "disp = Co"
      ],
      "metadata": {
        "id": "xFlF-ccgZWJv",
        "colab": {
          "base_uri": "https://localhost:8080/",
          "height": 296
        },
        "outputId": "1772ad29-c144-4d85-99e2-dd7a1cf4246c"
      },
      "execution_count": null,
      "outputs": [
        {
          "output_type": "stream",
          "name": "stdout",
          "text": [
            "0.703\n"
          ]
        },
        {
          "output_type": "display_data",
          "data": {
            "image/png": "[encoded data removed]",
            "text/plain": [
              "<Figure size 432x288 with 2 Axes>"
            ]
          },
          "metadata": {
            "needs_background": "light"
          }
        }
      ]
    },
    {
      "cell_type": "code",
      "source": [
        "from xgboost import XGBClassifier\n",
        "from sklearn.model_selection import cross_val_score\n",
        "model = XGBClassifier()\n",
        "model.fit(x_train,y_train)\n",
        "preds = model.predict(x_test)\n",
        "print(cross_val_score(model,x_train,y_train))\n",
        "print(accuracy_score(y_test,preds))"
      ],
      "metadata": {
        "colab": {
          "base_uri": "https://localhost:8080/"
        },
        "id": "8KGnJkXQi2kP",
        "outputId": "36ed309b-8a51-4857-c328-f9ca18c7e27c"
      },
      "execution_count": null,
      "outputs": [
        {
          "output_type": "stream",
          "name": "stdout",
          "text": [
            "[0.54375  0.535625 0.535625 0.54375  0.541875]\n",
            "0.549\n"
          ]
        }
      ]
    },
    {
      "cell_type": "code",
      "source": [
        "x_train, x_val, x_test, y_train, y_val, y_test = x[:int(0.7*x.shape[0])],x[int(0.7*x.shape[0]):int(0.9*x.shape[0])], x[int(0.9*x.shape[0]):], y[:int(0.7*y.shape[0])],y[int(0.7*y.shape[0]):int(0.9*y.shape[0])], y[int(0.9*y.shape[0]):]\n",
        "\n",
        "x_train_dl = []\n",
        "y_train_dl = []\n",
        "mean_x = np.mean(x_train,axis=0)\n",
        "mean_y = np.mean(y_train)\n",
        "look_back = 5\n",
        "for i in range(len(x_train)):\n",
        "  if i<look_back-1:\n",
        "    arr_x = []\n",
        "    arr_y = []\n",
        "    for j in range(look_back):\n",
        "      if j<look_back-1-i:\n",
        "        arr_x.append(mean_x)\n",
        "        arr_y.append(mean_y)\n",
        "      else:\n",
        "        arr_x.append(x_train[i-look_back+1+j])\n",
        "        arr_y.append(y_train[i-look_back+1+j])\n",
        "    x_train_dl.append(arr_x)\n",
        "    y_train_dl.append(arr_y)\n",
        "  else:\n",
        "    x_train_dl.append(x_train[i-look_back+1:i+1])\n",
        "    y_train_dl.append(y_train[i-look_back+1:i+1])\n",
        "x_train_dl = np.array(x_train_dl)\n",
        "y_train_dl = np.array(y_train_dl)"
      ],
      "metadata": {
        "id": "yIdVPAQ1S-sF"
      },
      "execution_count": null,
      "outputs": []
    },
    {
      "cell_type": "code",
      "source": [
        "x_test_dl = []\n",
        "y_test_dl = []\n",
        "mean_x = np.mean(x_test,axis=0)\n",
        "mean_y = np.mean(y_test)\n",
        "for i in range(len(x_test)):\n",
        "  if i<look_back-1:\n",
        "    arr_x = []\n",
        "    arr_y = []\n",
        "    for j in range(look_back):\n",
        "      if j<look_back-1-i:\n",
        "        arr_x.append(mean_x)\n",
        "        arr_y.append(mean_y)\n",
        "      else:\n",
        "        arr_x.append(x_test[i-look_back+1+j])\n",
        "        arr_y.append(y_test[i-look_back+1+j])\n",
        "    x_test_dl.append(arr_x)\n",
        "    y_test_dl.append(arr_y)\n",
        "  else:\n",
        "    x_test_dl.append(x_test[i-look_back+1:i+1])\n",
        "    y_test_dl.append(y_test[i-look_back+1:i+1])\n",
        "x_test_dl = np.array(x_test_dl)\n",
        "y_test_dl = np.array(y_test_dl)"
      ],
      "metadata": {
        "id": "sP24houhZsoO"
      },
      "execution_count": null,
      "outputs": []
    },
    {
      "cell_type": "code",
      "source": [
        "x_val_dl = []\n",
        "y_val_dl = []\n",
        "mean_x = np.mean(x_val,axis=0)\n",
        "mean_y = np.mean(y_val)\n",
        "for i in range(len(x_val)):\n",
        "  if i<look_back-1:\n",
        "    arr_x = []\n",
        "    arr_y = []\n",
        "    for j in range(look_back):\n",
        "      if j<look_back-1-i:\n",
        "        arr_x.append(mean_x)\n",
        "        arr_y.append(mean_y)\n",
        "      else:\n",
        "        arr_x.append(x_val[i-look_back+1+j])\n",
        "        arr_y.append(y_val[i-look_back+1+j])\n",
        "    x_val_dl.append(arr_x)\n",
        "    y_val_dl.append(arr_y)\n",
        "  else:\n",
        "    x_val_dl.append(x_val[i-look_back+1:i+1])\n",
        "    y_val_dl.append(y_val[i-look_back+1:i+1])\n",
        "x_val_dl = np.array(x_val_dl)\n",
        "y_val_dl = np.array(y_val_dl)"
      ],
      "metadata": {
        "id": "rUcVlnkncQFw"
      },
      "execution_count": null,
      "outputs": []
    },
    {
      "cell_type": "code",
      "source": [
        "#Make Neural Model Here.\n",
        "import tensorflow as tf\n",
        "import tensorflow.keras as keras\n",
        "from keras.models import Sequential\n",
        "from keras.layers import Activation, Dropout, Flatten, Dense\n",
        "\n",
        "x = tf.keras.Input(shape=(look_back,4), dtype=float)\n",
        "y = tf.keras.layers.LSTM(look_back, return_sequences=True,return_state=True,dropout = 0.2, recurrent_dropout = 0.2)(x)\n",
        "y = tf.keras.layers.LSTM(look_back, return_sequences=True,dropout=0.2,recurrent_dropout=0.2)(x)\n",
        "y = tf.keras.layers.Flatten()(y)\n",
        "y = tf.keras.layers.Dense(1, activation='sigmoid')(y)\n",
        "model = tf.keras.Model(x,y)\n",
        "callback = tf.keras.callbacks.EarlyStopping(monitor='val_loss', patience=4)\n",
        "model.compile(optimizer='adam', loss=tf.keras.losses.BinaryCrossentropy(), metrics = ['accuracy'])"
      ],
      "metadata": {
        "id": "_tMbSGFwmTwi"
      },
      "execution_count": null,
      "outputs": []
    },
    {
      "cell_type": "code",
      "source": [
        "model.fit(x_train_dl,y_train, validation_data = (x_val_dl,y_val), epochs=40, batch_size = 30, callbacks=[callback])\n",
        "model.evaluate(x_test_dl, y_test)"
      ],
      "metadata": {
        "colab": {
          "base_uri": "https://localhost:8080/"
        },
        "id": "fpeyx1BwjKvT",
        "outputId": "16691c65-19d0-40f1-e336-fbe362c6bdea"
      },
      "execution_count": null,
      "outputs": [
        {
          "output_type": "stream",
          "name": "stdout",
          "text": [
            "Epoch 1/40\n",
            "234/234 [==============================] - 4s 7ms/step - loss: 0.6935 - accuracy: 0.5064 - val_loss: 0.6938 - val_accuracy: 0.4980\n",
            "Epoch 2/40\n",
            "234/234 [==============================] - 1s 6ms/step - loss: 0.6927 - accuracy: 0.5083 - val_loss: 0.6932 - val_accuracy: 0.5100\n",
            "Epoch 3/40\n",
            "234/234 [==============================] - 1s 6ms/step - loss: 0.6919 - accuracy: 0.5193 - val_loss: 0.6930 - val_accuracy: 0.5025\n",
            "Epoch 4/40\n",
            "234/234 [==============================] - 1s 5ms/step - loss: 0.6919 - accuracy: 0.5191 - val_loss: 0.6925 - val_accuracy: 0.5110\n",
            "Epoch 5/40\n",
            "234/234 [==============================] - 1s 6ms/step - loss: 0.6913 - accuracy: 0.5301 - val_loss: 0.6916 - val_accuracy: 0.5195\n",
            "Epoch 6/40\n",
            "234/234 [==============================] - 1s 5ms/step - loss: 0.6910 - accuracy: 0.5270 - val_loss: 0.6913 - val_accuracy: 0.5290\n",
            "Epoch 7/40\n",
            "234/234 [==============================] - 1s 6ms/step - loss: 0.6903 - accuracy: 0.5219 - val_loss: 0.6910 - val_accuracy: 0.5200\n",
            "Epoch 8/40\n",
            "234/234 [==============================] - 1s 5ms/step - loss: 0.6900 - accuracy: 0.5304 - val_loss: 0.6907 - val_accuracy: 0.5235\n",
            "Epoch 9/40\n",
            "234/234 [==============================] - 1s 6ms/step - loss: 0.6898 - accuracy: 0.5329 - val_loss: 0.6904 - val_accuracy: 0.5270\n",
            "Epoch 10/40\n",
            "234/234 [==============================] - 1s 6ms/step - loss: 0.6894 - accuracy: 0.5379 - val_loss: 0.6903 - val_accuracy: 0.5285\n",
            "Epoch 11/40\n",
            "234/234 [==============================] - 1s 6ms/step - loss: 0.6899 - accuracy: 0.5321 - val_loss: 0.6902 - val_accuracy: 0.5225\n",
            "Epoch 12/40\n",
            "234/234 [==============================] - 1s 6ms/step - loss: 0.6891 - accuracy: 0.5346 - val_loss: 0.6899 - val_accuracy: 0.5275\n",
            "Epoch 13/40\n",
            "234/234 [==============================] - 1s 5ms/step - loss: 0.6892 - accuracy: 0.5306 - val_loss: 0.6903 - val_accuracy: 0.5275\n",
            "Epoch 14/40\n",
            "234/234 [==============================] - 1s 6ms/step - loss: 0.6885 - accuracy: 0.5361 - val_loss: 0.6898 - val_accuracy: 0.5325\n",
            "Epoch 15/40\n",
            "234/234 [==============================] - 1s 5ms/step - loss: 0.6889 - accuracy: 0.5371 - val_loss: 0.6899 - val_accuracy: 0.5245\n",
            "Epoch 16/40\n",
            "234/234 [==============================] - 1s 6ms/step - loss: 0.6890 - accuracy: 0.5383 - val_loss: 0.6896 - val_accuracy: 0.5270\n",
            "Epoch 17/40\n",
            "234/234 [==============================] - 1s 6ms/step - loss: 0.6890 - accuracy: 0.5341 - val_loss: 0.6897 - val_accuracy: 0.5230\n",
            "Epoch 18/40\n",
            "234/234 [==============================] - 1s 6ms/step - loss: 0.6887 - accuracy: 0.5427 - val_loss: 0.6901 - val_accuracy: 0.5235\n",
            "Epoch 19/40\n",
            "234/234 [==============================] - 1s 6ms/step - loss: 0.6884 - accuracy: 0.5389 - val_loss: 0.6899 - val_accuracy: 0.5265\n",
            "Epoch 20/40\n",
            "234/234 [==============================] - 1s 6ms/step - loss: 0.6888 - accuracy: 0.5453 - val_loss: 0.6894 - val_accuracy: 0.5315\n",
            "Epoch 21/40\n",
            "234/234 [==============================] - 1s 6ms/step - loss: 0.6890 - accuracy: 0.5359 - val_loss: 0.6898 - val_accuracy: 0.5255\n",
            "Epoch 22/40\n",
            "234/234 [==============================] - 1s 6ms/step - loss: 0.6892 - accuracy: 0.5384 - val_loss: 0.6893 - val_accuracy: 0.5350\n",
            "Epoch 23/40\n",
            "234/234 [==============================] - 1s 6ms/step - loss: 0.6884 - accuracy: 0.5401 - val_loss: 0.6894 - val_accuracy: 0.5355\n",
            "Epoch 24/40\n",
            "234/234 [==============================] - 1s 5ms/step - loss: 0.6884 - accuracy: 0.5400 - val_loss: 0.6899 - val_accuracy: 0.5275\n",
            "Epoch 25/40\n",
            "234/234 [==============================] - 1s 6ms/step - loss: 0.6886 - accuracy: 0.5324 - val_loss: 0.6898 - val_accuracy: 0.5295\n",
            "Epoch 26/40\n",
            "234/234 [==============================] - 1s 6ms/step - loss: 0.6881 - accuracy: 0.5416 - val_loss: 0.6893 - val_accuracy: 0.5335\n",
            "Epoch 27/40\n",
            "234/234 [==============================] - 1s 6ms/step - loss: 0.6889 - accuracy: 0.5416 - val_loss: 0.6892 - val_accuracy: 0.5310\n",
            "Epoch 28/40\n",
            "234/234 [==============================] - 1s 6ms/step - loss: 0.6890 - accuracy: 0.5381 - val_loss: 0.6893 - val_accuracy: 0.5345\n",
            "Epoch 29/40\n",
            "234/234 [==============================] - 1s 5ms/step - loss: 0.6874 - accuracy: 0.5399 - val_loss: 0.6893 - val_accuracy: 0.5345\n",
            "Epoch 30/40\n",
            "234/234 [==============================] - 1s 5ms/step - loss: 0.6895 - accuracy: 0.5304 - val_loss: 0.6892 - val_accuracy: 0.5390\n",
            "Epoch 31/40\n",
            "234/234 [==============================] - 1s 5ms/step - loss: 0.6890 - accuracy: 0.5340 - val_loss: 0.6893 - val_accuracy: 0.5375\n",
            "Epoch 32/40\n",
            "234/234 [==============================] - 1s 5ms/step - loss: 0.6885 - accuracy: 0.5421 - val_loss: 0.6892 - val_accuracy: 0.5365\n",
            "Epoch 33/40\n",
            "234/234 [==============================] - 1s 5ms/step - loss: 0.6885 - accuracy: 0.5383 - val_loss: 0.6892 - val_accuracy: 0.5375\n",
            "Epoch 34/40\n",
            "234/234 [==============================] - 1s 5ms/step - loss: 0.6890 - accuracy: 0.5364 - val_loss: 0.6892 - val_accuracy: 0.5400\n",
            "Epoch 35/40\n",
            "234/234 [==============================] - 1s 5ms/step - loss: 0.6876 - accuracy: 0.5471 - val_loss: 0.6892 - val_accuracy: 0.5360\n",
            "Epoch 36/40\n",
            "234/234 [==============================] - 1s 6ms/step - loss: 0.6877 - accuracy: 0.5404 - val_loss: 0.6892 - val_accuracy: 0.5340\n",
            "Epoch 37/40\n",
            "234/234 [==============================] - 1s 5ms/step - loss: 0.6881 - accuracy: 0.5479 - val_loss: 0.6893 - val_accuracy: 0.5350\n",
            "Epoch 38/40\n",
            "234/234 [==============================] - 1s 6ms/step - loss: 0.6878 - accuracy: 0.5394 - val_loss: 0.6893 - val_accuracy: 0.5375\n",
            "32/32 [==============================] - 0s 2ms/step - loss: 0.6867 - accuracy: 0.5630\n"
          ]
        },
        {
          "output_type": "execute_result",
          "data": {
            "text/plain": [
              "[0.6866918206214905, 0.5630000233650208]"
            ]
          },
          "metadata": {},
          "execution_count": 73
        }
      ]
    },
    {
      "cell_type": "code",
      "source": [
        "model.save('weights.h5')"
      ],
      "metadata": {
        "id": "4BCRv0wbHJ_q"
      },
      "execution_count": null,
      "outputs": []
    },
    {
      "cell_type": "code",
      "source": [
        "import h5py\n",
        "f = h5py.File('weights.h5', 'r')"
      ],
      "metadata": {
        "id": "MWEMdvutJGok"
      },
      "execution_count": null,
      "outputs": []
    },
    {
      "cell_type": "code",
      "source": [
        "f.close()"
      ],
      "metadata": {
        "id": "_-XbxNLYJZFG"
      },
      "execution_count": null,
      "outputs": []
    },
    {
      "cell_type": "code",
      "source": [
        "df = pd.read_csv('test_gc.csv')\n",
        "df = df.rename(columns={'x1': 'Open', 'x2': 'High', 'x3':'Low', 'x4':'Close'})\n",
        "\n",
        "#See if opening of new datapoint is after closing of prev data point\n",
        "op_cl = [0]\n",
        "\n",
        "#Close below or above 50% of previous candlestick\n",
        "cl50 = [1] #First data point close > half of current.\n",
        "\n",
        "#Bull Harami, 0.25(O-C) > O-C new \n",
        "bull_h = [0]\n",
        "\n",
        "\n",
        "#Implement more mined parameters from https://discovery.ucl.ac.uk/id/eprint/10062933/1/ICONIP_Deep_Candlestick_Mining_update_final.pdf\n",
        "#Pattern 02\n",
        "p02 = [0]\n",
        "\n",
        "#1 degree patterns\n",
        "for i in range(1, len(df['Open'])):\n",
        "    if df['Open'][i] > df['Close'][i-1]:\n",
        "        op_cl.append(1)\n",
        "    else:\n",
        "        op_cl.append(0)\n",
        "    \n",
        "    if df['Close'][i] > mid2[i-1]:\n",
        "        cl50.append(1)\n",
        "    else:\n",
        "        cl50.append(0)\n",
        "    \n",
        "    if 0.25*(df['Open'][i-1]-df['Close'][i-1]) > (df['Open'][i]-df['Close'][i]):\n",
        "        bull_h.append(1)\n",
        "    else:\n",
        "        bull_h.append(0)\n",
        "\n",
        "    if df['Open'][i-1]>df['Open'][i] and df['High'][i-1]>df['High'][i] and df['Close'][i-1]<df['Close'][i] and df['Low'][i-1]<df['Low'][i]:\n",
        "        p02.append(1)\n",
        "    else:\n",
        "        p02.append(0)\n",
        "\n",
        "#2 degree patterns\n",
        "for i in range(2, len(df['Open'])):\n",
        "    pass\n",
        "\n",
        "df['op_cl'] = op_cl\n",
        "df['cl50'] = cl50\n",
        "df['bull_h'] = bull_h\n",
        "df['p02'] = p02\n",
        "\n",
        "df['midOC'] = mid1\n",
        "df['midHL'] = mid2\n",
        "\n",
        "test_final = np.array([p02, cl50, bull_h, op_cl]).T"
      ],
      "metadata": {
        "id": "wicNmseZaMMg"
      },
      "execution_count": null,
      "outputs": []
    },
    {
      "cell_type": "code",
      "source": [
        "x_test_final = []\n",
        "mean_x = np.mean(test_final,axis=0)\n",
        "look_back = 5\n",
        "for i in range(len(test_final)):\n",
        "  if i<look_back-1:\n",
        "    arr_x = []\n",
        "    for j in range(look_back):\n",
        "      if j<look_back-1-i:\n",
        "        arr_x.append(mean_x)\n",
        "      else:\n",
        "        arr_x.append(test_final[i-look_back+1+j])\n",
        "    x_test_final.append(arr_x)\n",
        "  else:\n",
        "    x_test_final.append(test_final[i-look_back+1:i+1])\n",
        "x_test_final = np.array(x_test_final)"
      ],
      "metadata": {
        "id": "GF_NWApreR5q"
      },
      "execution_count": null,
      "outputs": []
    },
    {
      "cell_type": "code",
      "source": [
        "y_result = model.predict(x_test_final)"
      ],
      "metadata": {
        "id": "ExUS350yrCn2"
      },
      "execution_count": null,
      "outputs": []
    },
    {
      "cell_type": "code",
      "source": [
        "y_result = (y_result > 0.5).astype(int).tolist()\n",
        "y_result = [i[0] for i in y_result]"
      ],
      "metadata": {
        "id": "7kT6W96-ZWhz"
      },
      "execution_count": null,
      "outputs": []
    },
    {
      "cell_type": "code",
      "source": [
        "data = {'y': y_result}\n",
        "df = pd.DataFrame(data)"
      ],
      "metadata": {
        "id": "9JlmIfBGYHgH"
      },
      "execution_count": null,
      "outputs": []
    },
    {
      "cell_type": "code",
      "source": [
        "df.to_csv('result.csv', index=False)"
      ],
      "metadata": {
        "id": "PZ6z2UC4Y6nE"
      },
      "execution_count": null,
      "outputs": []
    },
    {
      "cell_type": "code",
      "source": [
        "import matplotlib.pyplot as plt\n",
        "import numpy as np\n",
        "\n",
        "mid1 = (df['Close']+df['Open'])/2\n",
        "mid2 = (df['High']+df['Low'])/2\n",
        "\n",
        "momentum = [0]\n",
        "for i in range(1,len(mid1)-1):\n",
        "  if mid2[i-1]+mid2[i+1]-2*mid2[i] >= 0:\n",
        "    momentum.append(1)\n",
        "  else:\n",
        "    momentum.append(0)\n",
        "momentum.append(0)\n",
        "ans = np.abs(np.sum(np.array(momentum)-df[\"y\"].to_numpy()))/10**4\n",
        "print(\"loss on hypothesis :\",ans*100,\"%\")"
      ],
      "metadata": {
        "colab": {
          "base_uri": "https://localhost:8080/"
        },
        "id": "XZrpBdLz16C5",
        "outputId": "be807ff8-1f8d-4710-c6db-9669f02869e5"
      },
      "execution_count": null,
      "outputs": [
        {
          "output_type": "stream",
          "name": "stdout",
          "text": [
            "loss on hypothesis : 0.1 %\n"
          ]
        }
      ]
    }
  ]
}